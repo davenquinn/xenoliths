{
 "metadata": {
  "name": "",
  "signature": "sha256:dfea7d9d7f2dbd22582136db098e9278c9d59fbc87e4d6ec52c0f2924e6a4bd7"
 },
 "nbformat": 3,
 "nbformat_minor": 0,
 "worksheets": [
  {
   "cells": [
    {
     "cell_type": "code",
     "collapsed": false,
     "input": [
      "from __future__ import division, print_function\n",
      "%matplotlib inline\n",
      "%load_ext autoreload\n",
      "%autoreload 2\n",
      "import seaborn as sns\n",
      "import numpy as N\n",
      "import matplotlib.pyplot as plt"
     ],
     "language": "python",
     "metadata": {},
     "outputs": [
      {
       "output_type": "stream",
       "stream": "stdout",
       "text": [
        "The autoreload extension is already loaded. To reload it, use:\n",
        "  %reload_ext autoreload\n"
       ]
      }
     ],
     "prompt_number": 4
    },
    {
     "cell_type": "code",
     "collapsed": false,
     "input": [
      "from geotherm.units import u\n",
      "from geotherm.materials import oceanic_mantle, continental_crust, oceanic_crust\n",
      "from geotherm.models import Material, Section, Layer, stack_sections\n",
      "from geotherm.solvers import FiniteSolver, HalfSpaceSolver"
     ],
     "language": "python",
     "metadata": {},
     "outputs": [],
     "prompt_number": 12
    },
    {
     "cell_type": "code",
     "collapsed": false,
     "input": [
      "class Plotter(object):\n",
      "    def __init__(self):\n",
      "        self.fig, self.ax = plt.subplots()\n",
      "        self.sol = None\n",
      "        \n",
      "    def __call__(self,t,sol):\n",
      "        if self.sol is None:\n",
      "            self.sol, = self.ax.plot(sol, N.arange(len(sol)))\n",
      "            self.fig.show()\n",
      "        else:\n",
      "            self.sol.set_xdata(sol)\n",
      "            self.fig.canvas.draw()\n",
      "            "
     ],
     "language": "python",
     "metadata": {},
     "outputs": [],
     "prompt_number": 17
    },
    {
     "cell_type": "code",
     "collapsed": false,
     "input": [
      "oceanic_mantle = Material(\n",
      "    conductivity = u(3.35,\"W/m\"),\n",
      "    specific_heat = u(1171,\"J/kg\"),\n",
      "    density = u(3300,\"kg/m**3\"))\n",
      "layer = oceanic_mantle.to_layer(u(250,\"km\"))\n",
      "section = Section([layer])\n",
      "half_space = HalfSpaceSolver(section)\n",
      "\n",
      "forearc = Section([\n",
      "    continental_crust.to_layer(u(30,\"km\"))\n",
      "    ], uniform_temperature=u(400,\"degC\")) # This is obviously over-simplified\n",
      "\n",
      "solver_constraints = (\n",
      "    u(25,\"degC\"), # Surface temperature\n",
      "    u(1500,\"degC\"))\n",
      "\n",
      "evolved_oceanic = half_space.solution(u(5,\"Myr\"))\n",
      "\n",
      "final_section = stack_sections(\n",
      "    forearc,\n",
      "    evolved_oceanic)\n",
      "\n",
      "solver = FiniteSolver(\n",
      "    final_section,\n",
      "    constraints=solver_constraints)\n",
      "\n",
      "sol = solver.solution(\n",
      "    u(5,\"Myr\"),\n",
      "    plotter = Plotter(),\n",
      "    steps=50)\n",
      "\n",
      "print(sol)"
     ],
     "language": "python",
     "metadata": {},
     "outputs": [
      {
       "output_type": "stream",
       "stream": "stdout",
       "text": [
        "Solving implicit\n",
        "Duration: 5.00e+06 year\n",
        "Number of steps: 50\n",
        "[   25.09541823    25.28625467    25.47709105 ...,  1500.          1500.\n",
        "  1500.        ] degC"
       ]
      },
      {
       "output_type": "stream",
       "stream": "stdout",
       "text": [
        "\n"
       ]
      },
      {
       "output_type": "stream",
       "stream": "stderr",
       "text": [
        "/Users/Daven/Environment/virtualenvs/Xenoliths/lib/python2.7/site-packages/matplotlib/figure.py:371: UserWarning: matplotlib is currently using a non-GUI backend, so cannot show the figure\n",
        "  \"matplotlib is currently using a non-GUI backend, \"\n"
       ]
      },
      {
       "metadata": {},
       "output_type": "display_data",
       "png": "[encoded data removed]",
       "text": [
        "<matplotlib.figure.Figure at 0x115497b90>"
       ]
      }
     ],
     "prompt_number": 18
    },
    {
     "cell_type": "code",
     "collapsed": false,
     "input": [],
     "language": "python",
     "metadata": {},
     "outputs": [],
     "prompt_number": 3
    }
   ],
   "metadata": {}
  }
 ]
}